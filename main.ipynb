{
 "cells": [
  {
   "cell_type": "code",
   "execution_count": null,
   "metadata": {},
   "outputs": [
    {
     "ename": "",
     "evalue": "",
     "output_type": "error",
     "traceback": [
      "\u001b[1;31mRunning cells with '/usr/bin/python' requires the ipykernel package.\n",
      "\u001b[1;31mRun the following command to install 'ipykernel' into the Python environment. \n",
      "\u001b[1;31mCommand: '/usr/bin/python -m pip install ipykernel -U --user --force-reinstall'"
     ]
    }
   ],
   "source": [
    "def my_traslate(text):\n",
    "    # import translators as ts\n",
    "    # import translators.server as tss\n",
    "    from_language, to_language = 'en', 'ru'\n",
    "    return text\n",
    "    # return tss.google(text, from_language, to_language)\n",
    "    # print(translate_text(text))\n",
    "    # return ts.translate_text(text, from_language, to_language)\n",
    "    # return tss.yandex(text)"
   ]
  },
  {
   "cell_type": "code",
   "execution_count": null,
   "metadata": {},
   "outputs": [],
   "source": [
    "import glob\n",
    "import io"
   ]
  },
  {
   "cell_type": "code",
   "execution_count": null,
   "metadata": {},
   "outputs": [],
   "source": [
    "with open(\"/home/caxap/projects/Qgis_translater/SemiAutomaticClassificationManual_v4/locale/ru/LC_MESSAGES/FAQ.po\", \"r+\", encoding=\"utf-8\") as f:\n",
    "    old = f.read() # read everything in the file\n",
    "    new_msgid = ''\n",
    "    new_msgs = []\n",
    "    lines = old.split('\\n')\n",
    "    newLines = []\n",
    "    for line in lines:\n",
    "        words = line.split(' ')\n",
    "        if words[0] == 'msgid' and ' '.join(words[1:]) != '\"\"':\n",
    "            new_msgid = ' '.join(words[1:])\n",
    "            new_msgs = []\n",
    "        elif words[0] == 'msgstr' and new_msgid != '':\n",
    "            line = f'msgstr {my_traslate(new_msgid)}'\n",
    "            if len(new_msgs) > 0:\n",
    "                for msg in new_msgs:\n",
    "                    line += f'\\n{my_traslate(msg)}'\n",
    "            new_msgid = ''\n",
    "            new_msgs = []\n",
    "            # print(line)\n",
    "        elif words[0] and words[0][0] == '\"':\n",
    "            new_msgs.append(line)\n",
    "        newLines.append(line)\n",
    "\n",
    "    f.seek(0) # rewind\n",
    "    f.write('\\n'.join(newLines)) # write the new line before\n",
    "    # f.close()"
   ]
  }
 ],
 "metadata": {
  "kernelspec": {
   "display_name": "Python 3",
   "language": "python",
   "name": "python3"
  },
  "language_info": {
   "name": "python",
   "version": "3.10.6"
  },
  "orig_nbformat": 4,
  "vscode": {
   "interpreter": {
    "hash": "767d51c1340bd893661ea55ea3124f6de3c7a262a8b4abca0554b478b1e2ff90"
   }
  }
 },
 "nbformat": 4,
 "nbformat_minor": 2
}
